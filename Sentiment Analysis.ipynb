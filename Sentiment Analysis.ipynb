{
 "cells": [
  {
   "cell_type": "markdown",
   "id": "0e4c6b7b-f6d1-4e62-9c8a-c2c065ef275b",
   "metadata": {},
   "source": [
    "**Importing the Dependencies** "
   ]
  },
  {
   "cell_type": "code",
   "execution_count": 58,
   "id": "20b9e421-67ed-4156-8983-90d250383a1e",
   "metadata": {},
   "outputs": [],
   "source": [
    "import re\n",
    "import numpy as np\n",
    "import pandas as pd\n",
    "#plotting\n",
    "import seaborn as sns\n",
    "from wordcloud import WordCloud   \n",
    "import matplotlib.pyplot as plt\n",
    "# nltk\n",
    "from nltk.corpus import stopwords\n",
    "from nltk.stem.porter import PorterStemmer \n",
    "# sklearn is the widely used machine learning library \n",
    "from sklearn.linear_model import LogisticRegression\n",
    "from sklearn.model_selection import train_test_split\n",
    "from sklearn.feature_extraction.text import TfidfVectorizer     #conversion of text data into numerical form \n",
    "from sklearn.metrics import accuracy_score       "
   ]
  },
  {
   "cell_type": "markdown",
   "id": "c18f80d3-52c8-4b69-8213-eff9efb9c7a8",
   "metadata": {},
   "source": [
    "**Data Processing**"
   ]
  },
  {
   "cell_type": "code",
   "execution_count": 3,
   "id": "5f84ca89-5bdc-4bd6-a007-8781fde0a3ab",
   "metadata": {},
   "outputs": [
    {
     "data": {
      "text/html": [
       "<div>\n",
       "<style scoped>\n",
       "    .dataframe tbody tr th:only-of-type {\n",
       "        vertical-align: middle;\n",
       "    }\n",
       "\n",
       "    .dataframe tbody tr th {\n",
       "        vertical-align: top;\n",
       "    }\n",
       "\n",
       "    .dataframe thead th {\n",
       "        text-align: right;\n",
       "    }\n",
       "</style>\n",
       "<table border=\"1\" class=\"dataframe\">\n",
       "  <thead>\n",
       "    <tr style=\"text-align: right;\">\n",
       "      <th></th>\n",
       "      <th>target</th>\n",
       "      <th>ids</th>\n",
       "      <th>date</th>\n",
       "      <th>flag</th>\n",
       "      <th>user</th>\n",
       "      <th>text</th>\n",
       "    </tr>\n",
       "  </thead>\n",
       "  <tbody>\n",
       "    <tr>\n",
       "      <th>760314</th>\n",
       "      <td>0</td>\n",
       "      <td>2296674592</td>\n",
       "      <td>Tue Jun 23 09:28:40 PDT 2009</td>\n",
       "      <td>NO_QUERY</td>\n",
       "      <td>rachelinajolie</td>\n",
       "      <td>i slept for an hour and now i'm wide awake des...</td>\n",
       "    </tr>\n",
       "    <tr>\n",
       "      <th>807249</th>\n",
       "      <td>4</td>\n",
       "      <td>1468955799</td>\n",
       "      <td>Tue Apr 07 04:34:38 PDT 2009</td>\n",
       "      <td>NO_QUERY</td>\n",
       "      <td>Miahpeah</td>\n",
       "      <td>Follow me, hustlers</td>\n",
       "    </tr>\n",
       "    <tr>\n",
       "      <th>462567</th>\n",
       "      <td>0</td>\n",
       "      <td>2174723711</td>\n",
       "      <td>Sun Jun 14 23:10:11 PDT 2009</td>\n",
       "      <td>NO_QUERY</td>\n",
       "      <td>Killaya</td>\n",
       "      <td>@she_shines92  I know  Well.. yeah. I mean, yo...</td>\n",
       "    </tr>\n",
       "    <tr>\n",
       "      <th>409974</th>\n",
       "      <td>0</td>\n",
       "      <td>2059766099</td>\n",
       "      <td>Sat Jun 06 17:35:37 PDT 2009</td>\n",
       "      <td>NO_QUERY</td>\n",
       "      <td>elcarlitoxloco</td>\n",
       "      <td>I really want a danboard</td>\n",
       "    </tr>\n",
       "    <tr>\n",
       "      <th>152540</th>\n",
       "      <td>0</td>\n",
       "      <td>1932760824</td>\n",
       "      <td>Tue May 26 22:09:30 PDT 2009</td>\n",
       "      <td>NO_QUERY</td>\n",
       "      <td>pridey77</td>\n",
       "      <td>just detailed the car, lucky because it's now ...</td>\n",
       "    </tr>\n",
       "  </tbody>\n",
       "</table>\n",
       "</div>"
      ],
      "text/plain": [
       "        target         ids                          date      flag  \\\n",
       "760314       0  2296674592  Tue Jun 23 09:28:40 PDT 2009  NO_QUERY   \n",
       "807249       4  1468955799  Tue Apr 07 04:34:38 PDT 2009  NO_QUERY   \n",
       "462567       0  2174723711  Sun Jun 14 23:10:11 PDT 2009  NO_QUERY   \n",
       "409974       0  2059766099  Sat Jun 06 17:35:37 PDT 2009  NO_QUERY   \n",
       "152540       0  1932760824  Tue May 26 22:09:30 PDT 2009  NO_QUERY   \n",
       "\n",
       "                  user                                               text  \n",
       "760314  rachelinajolie  i slept for an hour and now i'm wide awake des...  \n",
       "807249        Miahpeah                               Follow me, hustlers   \n",
       "462567         Killaya  @she_shines92  I know  Well.. yeah. I mean, yo...  \n",
       "409974  elcarlitoxloco                          I really want a danboard   \n",
       "152540        pridey77  just detailed the car, lucky because it's now ...  "
      ]
     },
     "execution_count": 3,
     "metadata": {},
     "output_type": "execute_result"
    }
   ],
   "source": [
    "DATASET_COLUMNS=['target','ids','date','flag','user','text']\n",
    "df = pd.read_csv(\"C:/hotel/training.1600000.processed.noemoticon.csv\", encoding=\"ISO-8859-1\", names=DATASET_COLUMNS)  #forward slas\n",
    "df.sample(5) "
   ]
  },
  {
   "cell_type": "code",
   "execution_count": 4,
   "id": "a99c1a8a-564b-46ef-8f0f-7e8281d3d85d",
   "metadata": {},
   "outputs": [
    {
     "data": {
      "text/html": [
       "<div>\n",
       "<style scoped>\n",
       "    .dataframe tbody tr th:only-of-type {\n",
       "        vertical-align: middle;\n",
       "    }\n",
       "\n",
       "    .dataframe tbody tr th {\n",
       "        vertical-align: top;\n",
       "    }\n",
       "\n",
       "    .dataframe thead th {\n",
       "        text-align: right;\n",
       "    }\n",
       "</style>\n",
       "<table border=\"1\" class=\"dataframe\">\n",
       "  <thead>\n",
       "    <tr style=\"text-align: right;\">\n",
       "      <th></th>\n",
       "      <th>target</th>\n",
       "      <th>ids</th>\n",
       "      <th>date</th>\n",
       "      <th>flag</th>\n",
       "      <th>user</th>\n",
       "      <th>text</th>\n",
       "    </tr>\n",
       "  </thead>\n",
       "  <tbody>\n",
       "    <tr>\n",
       "      <th>0</th>\n",
       "      <td>0</td>\n",
       "      <td>1467810369</td>\n",
       "      <td>Mon Apr 06 22:19:45 PDT 2009</td>\n",
       "      <td>NO_QUERY</td>\n",
       "      <td>_TheSpecialOne_</td>\n",
       "      <td>@switchfoot http://twitpic.com/2y1zl - Awww, t...</td>\n",
       "    </tr>\n",
       "    <tr>\n",
       "      <th>1</th>\n",
       "      <td>0</td>\n",
       "      <td>1467810672</td>\n",
       "      <td>Mon Apr 06 22:19:49 PDT 2009</td>\n",
       "      <td>NO_QUERY</td>\n",
       "      <td>scotthamilton</td>\n",
       "      <td>is upset that he can't update his Facebook by ...</td>\n",
       "    </tr>\n",
       "    <tr>\n",
       "      <th>2</th>\n",
       "      <td>0</td>\n",
       "      <td>1467810917</td>\n",
       "      <td>Mon Apr 06 22:19:53 PDT 2009</td>\n",
       "      <td>NO_QUERY</td>\n",
       "      <td>mattycus</td>\n",
       "      <td>@Kenichan I dived many times for the ball. Man...</td>\n",
       "    </tr>\n",
       "    <tr>\n",
       "      <th>3</th>\n",
       "      <td>0</td>\n",
       "      <td>1467811184</td>\n",
       "      <td>Mon Apr 06 22:19:57 PDT 2009</td>\n",
       "      <td>NO_QUERY</td>\n",
       "      <td>ElleCTF</td>\n",
       "      <td>my whole body feels itchy and like its on fire</td>\n",
       "    </tr>\n",
       "    <tr>\n",
       "      <th>4</th>\n",
       "      <td>0</td>\n",
       "      <td>1467811193</td>\n",
       "      <td>Mon Apr 06 22:19:57 PDT 2009</td>\n",
       "      <td>NO_QUERY</td>\n",
       "      <td>Karoli</td>\n",
       "      <td>@nationwideclass no, it's not behaving at all....</td>\n",
       "    </tr>\n",
       "  </tbody>\n",
       "</table>\n",
       "</div>"
      ],
      "text/plain": [
       "   target         ids                          date      flag  \\\n",
       "0       0  1467810369  Mon Apr 06 22:19:45 PDT 2009  NO_QUERY   \n",
       "1       0  1467810672  Mon Apr 06 22:19:49 PDT 2009  NO_QUERY   \n",
       "2       0  1467810917  Mon Apr 06 22:19:53 PDT 2009  NO_QUERY   \n",
       "3       0  1467811184  Mon Apr 06 22:19:57 PDT 2009  NO_QUERY   \n",
       "4       0  1467811193  Mon Apr 06 22:19:57 PDT 2009  NO_QUERY   \n",
       "\n",
       "              user                                               text  \n",
       "0  _TheSpecialOne_  @switchfoot http://twitpic.com/2y1zl - Awww, t...  \n",
       "1    scotthamilton  is upset that he can't update his Facebook by ...  \n",
       "2         mattycus  @Kenichan I dived many times for the ball. Man...  \n",
       "3          ElleCTF    my whole body feels itchy and like its on fire   \n",
       "4           Karoli  @nationwideclass no, it's not behaving at all....  "
      ]
     },
     "execution_count": 4,
     "metadata": {},
     "output_type": "execute_result"
    }
   ],
   "source": [
    "df.head()"
   ]
  },
  {
   "cell_type": "code",
   "execution_count": 5,
   "id": "a6300df4-d2a5-4127-ba8b-1fb94c55fbe3",
   "metadata": {},
   "outputs": [
    {
     "data": {
      "text/plain": [
       "Index(['target', 'ids', 'date', 'flag', 'user', 'text'], dtype='object')"
      ]
     },
     "execution_count": 5,
     "metadata": {},
     "output_type": "execute_result"
    }
   ],
   "source": [
    "df.columns"
   ]
  },
  {
   "cell_type": "code",
   "execution_count": 6,
   "id": "c378c38a-2fc0-4257-ad1d-e27270a87e4d",
   "metadata": {},
   "outputs": [
    {
     "name": "stdout",
     "output_type": "stream",
     "text": [
      "The length of the data is  1048576\n"
     ]
    }
   ],
   "source": [
    "print(\"The length of the data is \",len(df))"
   ]
  },
  {
   "cell_type": "code",
   "execution_count": 7,
   "id": "ba87e84c-1493-448c-811c-3a4e8b31a67a",
   "metadata": {},
   "outputs": [
    {
     "data": {
      "text/plain": [
       "(1048576, 6)"
      ]
     },
     "execution_count": 7,
     "metadata": {},
     "output_type": "execute_result"
    }
   ],
   "source": [
    "df.shape"
   ]
  },
  {
   "cell_type": "code",
   "execution_count": 8,
   "id": "76a6b0f3-25c4-4bc8-9b37-a8f14f9d8e6e",
   "metadata": {},
   "outputs": [
    {
     "name": "stdout",
     "output_type": "stream",
     "text": [
      "<class 'pandas.core.frame.DataFrame'>\n",
      "RangeIndex: 1048576 entries, 0 to 1048575\n",
      "Data columns (total 6 columns):\n",
      " #   Column  Non-Null Count    Dtype \n",
      "---  ------  --------------    ----- \n",
      " 0   target  1048576 non-null  int64 \n",
      " 1   ids     1048576 non-null  int64 \n",
      " 2   date    1048576 non-null  object\n",
      " 3   flag    1048576 non-null  object\n",
      " 4   user    1048576 non-null  object\n",
      " 5   text    1048576 non-null  object\n",
      "dtypes: int64(2), object(4)\n",
      "memory usage: 48.0+ MB\n"
     ]
    }
   ],
   "source": [
    "df.info()"
   ]
  },
  {
   "cell_type": "code",
   "execution_count": 9,
   "id": "8b92ffb5-c973-456b-bc96-88db3a100e51",
   "metadata": {},
   "outputs": [
    {
     "data": {
      "text/plain": [
       "target     int64\n",
       "ids        int64\n",
       "date      object\n",
       "flag      object\n",
       "user      object\n",
       "text      object\n",
       "dtype: object"
      ]
     },
     "execution_count": 9,
     "metadata": {},
     "output_type": "execute_result"
    }
   ],
   "source": [
    "df.dtypes"
   ]
  },
  {
   "cell_type": "code",
   "execution_count": 10,
   "id": "3c6b5c8a-64da-461c-adaf-f8b1f82feba1",
   "metadata": {},
   "outputs": [
    {
     "data": {
      "text/plain": [
       "target    0\n",
       "ids       0\n",
       "date      0\n",
       "flag      0\n",
       "user      0\n",
       "text      0\n",
       "dtype: int64"
      ]
     },
     "execution_count": 10,
     "metadata": {},
     "output_type": "execute_result"
    }
   ],
   "source": [
    "#Counting no of missing value in the dataset\n",
    "df.isnull().sum() "
   ]
  },
  {
   "cell_type": "code",
   "execution_count": 11,
   "id": "c82c8a36-d3f8-4d0c-9751-42ae72874b71",
   "metadata": {},
   "outputs": [
    {
     "data": {
      "text/plain": [
       "0"
      ]
     },
     "execution_count": 11,
     "metadata": {},
     "output_type": "execute_result"
    }
   ],
   "source": [
    "np.sum(df.isnull().any(axis = 1)) #along row  "
   ]
  },
  {
   "cell_type": "code",
   "execution_count": 12,
   "id": "63efde1a-d0c4-4001-be0b-f525dafb4311",
   "metadata": {},
   "outputs": [
    {
     "data": {
      "text/plain": [
       "array([0, 4], dtype=int64)"
      ]
     },
     "execution_count": 12,
     "metadata": {},
     "output_type": "execute_result"
    }
   ],
   "source": [
    "df[\"target\"].unique()      # In target column the unique elements "
   ]
  },
  {
   "cell_type": "code",
   "execution_count": 13,
   "id": "2e3d859f-3aee-443a-b289-77331028b735",
   "metadata": {},
   "outputs": [
    {
     "data": {
      "text/plain": [
       "target\n",
       "0    800000\n",
       "4    248576\n",
       "Name: count, dtype: int64"
      ]
     },
     "execution_count": 13,
     "metadata": {},
     "output_type": "execute_result"
    }
   ],
   "source": [
    "#checking the distribution of the target column \n",
    "df[\"target\"].value_counts()  "
   ]
  },
  {
   "cell_type": "code",
   "execution_count": 14,
   "id": "cb4d4d28-1306-4f11-b046-262710ee8bbe",
   "metadata": {},
   "outputs": [],
   "source": [
    "#convert the target value from \"4\" to \"1\" for positive tweet \n",
    "df.replace({\"target\":{4:1}},inplace=True)"
   ]
  },
  {
   "cell_type": "code",
   "execution_count": 14,
   "id": "d0c118ae-701a-421b-9021-a4b5241a8147",
   "metadata": {},
   "outputs": [
    {
     "data": {
      "text/html": [
       "<div>\n",
       "<style scoped>\n",
       "    .dataframe tbody tr th:only-of-type {\n",
       "        vertical-align: middle;\n",
       "    }\n",
       "\n",
       "    .dataframe tbody tr th {\n",
       "        vertical-align: top;\n",
       "    }\n",
       "\n",
       "    .dataframe thead th {\n",
       "        text-align: right;\n",
       "    }\n",
       "</style>\n",
       "<table border=\"1\" class=\"dataframe\">\n",
       "  <thead>\n",
       "    <tr style=\"text-align: right;\">\n",
       "      <th></th>\n",
       "      <th>target</th>\n",
       "      <th>ids</th>\n",
       "      <th>date</th>\n",
       "      <th>flag</th>\n",
       "      <th>user</th>\n",
       "      <th>text</th>\n",
       "    </tr>\n",
       "  </thead>\n",
       "  <tbody>\n",
       "    <tr>\n",
       "      <th>0</th>\n",
       "      <td>0</td>\n",
       "      <td>1467810369</td>\n",
       "      <td>Mon Apr 06 22:19:45 PDT 2009</td>\n",
       "      <td>NO_QUERY</td>\n",
       "      <td>_TheSpecialOne_</td>\n",
       "      <td>@switchfoot http://twitpic.com/2y1zl - Awww, t...</td>\n",
       "    </tr>\n",
       "    <tr>\n",
       "      <th>1</th>\n",
       "      <td>0</td>\n",
       "      <td>1467810672</td>\n",
       "      <td>Mon Apr 06 22:19:49 PDT 2009</td>\n",
       "      <td>NO_QUERY</td>\n",
       "      <td>scotthamilton</td>\n",
       "      <td>is upset that he can't update his Facebook by ...</td>\n",
       "    </tr>\n",
       "    <tr>\n",
       "      <th>2</th>\n",
       "      <td>0</td>\n",
       "      <td>1467810917</td>\n",
       "      <td>Mon Apr 06 22:19:53 PDT 2009</td>\n",
       "      <td>NO_QUERY</td>\n",
       "      <td>mattycus</td>\n",
       "      <td>@Kenichan I dived many times for the ball. Man...</td>\n",
       "    </tr>\n",
       "    <tr>\n",
       "      <th>3</th>\n",
       "      <td>0</td>\n",
       "      <td>1467811184</td>\n",
       "      <td>Mon Apr 06 22:19:57 PDT 2009</td>\n",
       "      <td>NO_QUERY</td>\n",
       "      <td>ElleCTF</td>\n",
       "      <td>my whole body feels itchy and like its on fire</td>\n",
       "    </tr>\n",
       "    <tr>\n",
       "      <th>4</th>\n",
       "      <td>0</td>\n",
       "      <td>1467811193</td>\n",
       "      <td>Mon Apr 06 22:19:57 PDT 2009</td>\n",
       "      <td>NO_QUERY</td>\n",
       "      <td>Karoli</td>\n",
       "      <td>@nationwideclass no, it's not behaving at all....</td>\n",
       "    </tr>\n",
       "    <tr>\n",
       "      <th>...</th>\n",
       "      <td>...</td>\n",
       "      <td>...</td>\n",
       "      <td>...</td>\n",
       "      <td>...</td>\n",
       "      <td>...</td>\n",
       "      <td>...</td>\n",
       "    </tr>\n",
       "    <tr>\n",
       "      <th>1048571</th>\n",
       "      <td>1</td>\n",
       "      <td>1960186342</td>\n",
       "      <td>Fri May 29 07:33:44 PDT 2009</td>\n",
       "      <td>NO_QUERY</td>\n",
       "      <td>Madelinedugganx</td>\n",
       "      <td>My GrandMa is making Dinenr with my Mum</td>\n",
       "    </tr>\n",
       "    <tr>\n",
       "      <th>1048572</th>\n",
       "      <td>1</td>\n",
       "      <td>1960186409</td>\n",
       "      <td>Fri May 29 07:33:43 PDT 2009</td>\n",
       "      <td>NO_QUERY</td>\n",
       "      <td>OffRoad_Dude</td>\n",
       "      <td>Mid-morning snack time... A bowl of cheese noo...</td>\n",
       "    </tr>\n",
       "    <tr>\n",
       "      <th>1048573</th>\n",
       "      <td>1</td>\n",
       "      <td>1960186429</td>\n",
       "      <td>Fri May 29 07:33:44 PDT 2009</td>\n",
       "      <td>NO_QUERY</td>\n",
       "      <td>Falchion</td>\n",
       "      <td>@ShaDeLa same here  say it like from the Termi...</td>\n",
       "    </tr>\n",
       "    <tr>\n",
       "      <th>1048574</th>\n",
       "      <td>1</td>\n",
       "      <td>1960186445</td>\n",
       "      <td>Fri May 29 07:33:44 PDT 2009</td>\n",
       "      <td>NO_QUERY</td>\n",
       "      <td>jonasobsessedx</td>\n",
       "      <td>@DestinyHope92 im great thaanks  wbuu?</td>\n",
       "    </tr>\n",
       "    <tr>\n",
       "      <th>1048575</th>\n",
       "      <td>1</td>\n",
       "      <td>1960186607</td>\n",
       "      <td>Fri May 29 07:33:45 PDT 2009</td>\n",
       "      <td>NO_QUERY</td>\n",
       "      <td>sugababez</td>\n",
       "      <td>cant wait til her date this weekend</td>\n",
       "    </tr>\n",
       "  </tbody>\n",
       "</table>\n",
       "<p>1048576 rows × 6 columns</p>\n",
       "</div>"
      ],
      "text/plain": [
       "         target         ids                          date      flag  \\\n",
       "0             0  1467810369  Mon Apr 06 22:19:45 PDT 2009  NO_QUERY   \n",
       "1             0  1467810672  Mon Apr 06 22:19:49 PDT 2009  NO_QUERY   \n",
       "2             0  1467810917  Mon Apr 06 22:19:53 PDT 2009  NO_QUERY   \n",
       "3             0  1467811184  Mon Apr 06 22:19:57 PDT 2009  NO_QUERY   \n",
       "4             0  1467811193  Mon Apr 06 22:19:57 PDT 2009  NO_QUERY   \n",
       "...         ...         ...                           ...       ...   \n",
       "1048571       1  1960186342  Fri May 29 07:33:44 PDT 2009  NO_QUERY   \n",
       "1048572       1  1960186409  Fri May 29 07:33:43 PDT 2009  NO_QUERY   \n",
       "1048573       1  1960186429  Fri May 29 07:33:44 PDT 2009  NO_QUERY   \n",
       "1048574       1  1960186445  Fri May 29 07:33:44 PDT 2009  NO_QUERY   \n",
       "1048575       1  1960186607  Fri May 29 07:33:45 PDT 2009  NO_QUERY   \n",
       "\n",
       "                    user                                               text  \n",
       "0        _TheSpecialOne_  @switchfoot http://twitpic.com/2y1zl - Awww, t...  \n",
       "1          scotthamilton  is upset that he can't update his Facebook by ...  \n",
       "2               mattycus  @Kenichan I dived many times for the ball. Man...  \n",
       "3                ElleCTF    my whole body feels itchy and like its on fire   \n",
       "4                 Karoli  @nationwideclass no, it's not behaving at all....  \n",
       "...                  ...                                                ...  \n",
       "1048571  Madelinedugganx           My GrandMa is making Dinenr with my Mum   \n",
       "1048572     OffRoad_Dude  Mid-morning snack time... A bowl of cheese noo...  \n",
       "1048573         Falchion  @ShaDeLa same here  say it like from the Termi...  \n",
       "1048574   jonasobsessedx             @DestinyHope92 im great thaanks  wbuu?  \n",
       "1048575        sugababez               cant wait til her date this weekend   \n",
       "\n",
       "[1048576 rows x 6 columns]"
      ]
     },
     "execution_count": 14,
     "metadata": {},
     "output_type": "execute_result"
    }
   ],
   "source": [
    "df"
   ]
  },
  {
   "cell_type": "code",
   "execution_count": 18,
   "id": "5f4f9b83-bdef-461b-a085-aeb40150273d",
   "metadata": {},
   "outputs": [
    {
     "data": {
      "text/plain": [
       "2"
      ]
     },
     "execution_count": 18,
     "metadata": {},
     "output_type": "execute_result"
    }
   ],
   "source": [
    "df[\"target\"].nunique()   #number of uniqe values present in the \"target\" column "
   ]
  },
  {
   "cell_type": "code",
   "execution_count": 84,
   "id": "43a65c33-8a87-4529-bdfb-d61b9d8f8ae5",
   "metadata": {},
   "outputs": [
    {
     "data": {
      "text/plain": [
       "<Axes: xlabel='target', ylabel='count'>"
      ]
     },
     "execution_count": 84,
     "metadata": {},
     "output_type": "execute_result"
    },
    {
     "data": {
      "image/png": "[encoded data removed]",
      "text/plain": [
       "<Figure size 640x480 with 1 Axes>"
      ]
     },
     "metadata": {},
     "output_type": "display_data"
    }
   ],
   "source": [
    "sns.countplot(x='target', data=df)"
   ]
  },
  {
   "cell_type": "code",
   "execution_count": null,
   "id": "d66c0a5b-35f3-49f5-9673-6d614bd4448c",
   "metadata": {},
   "outputs": [],
   "source": [
    "df['target'].unique()"
   ]
  },
  {
   "cell_type": "code",
   "execution_count": 15,
   "id": "f0ea91cb-7d92-4bd5-8161-61f60a73948a",
   "metadata": {},
   "outputs": [
    {
     "name": "stderr",
     "output_type": "stream",
     "text": [
      "[nltk_data] Downloading package stopwords to\n",
      "[nltk_data]     C:\\Users\\babum\\AppData\\Roaming\\nltk_data...\n",
      "[nltk_data]   Package stopwords is already up-to-date!\n"
     ]
    },
    {
     "data": {
      "text/plain": [
       "True"
      ]
     },
     "execution_count": 15,
     "metadata": {},
     "output_type": "execute_result"
    }
   ],
   "source": [
    "import nltk\n",
    "nltk.download('stopwords')  #stopwords are the words which does not require for sentiment analysis"
   ]
  },
  {
   "cell_type": "code",
   "execution_count": 16,
   "id": "8b78eb43-70c2-4ecb-8f16-eb2cc974fc2e",
   "metadata": {},
   "outputs": [
    {
     "name": "stdout",
     "output_type": "stream",
     "text": [
      "['i', 'me', 'my', 'myself', 'we', 'our', 'ours', 'ourselves', 'you', \"you're\", \"you've\", \"you'll\", \"you'd\", 'your', 'yours', 'yourself', 'yourselves', 'he', 'him', 'his', 'himself', 'she', \"she's\", 'her', 'hers', 'herself', 'it', \"it's\", 'its', 'itself', 'they', 'them', 'their', 'theirs', 'themselves', 'what', 'which', 'who', 'whom', 'this', 'that', \"that'll\", 'these', 'those', 'am', 'is', 'are', 'was', 'were', 'be', 'been', 'being', 'have', 'has', 'had', 'having', 'do', 'does', 'did', 'doing', 'a', 'an', 'the', 'and', 'but', 'if', 'or', 'because', 'as', 'until', 'while', 'of', 'at', 'by', 'for', 'with', 'about', 'against', 'between', 'into', 'through', 'during', 'before', 'after', 'above', 'below', 'to', 'from', 'up', 'down', 'in', 'out', 'on', 'off', 'over', 'under', 'again', 'further', 'then', 'once', 'here', 'there', 'when', 'where', 'why', 'how', 'all', 'any', 'both', 'each', 'few', 'more', 'most', 'other', 'some', 'such', 'no', 'nor', 'not', 'only', 'own', 'same', 'so', 'than', 'too', 'very', 's', 't', 'can', 'will', 'just', 'don', \"don't\", 'should', \"should've\", 'now', 'd', 'll', 'm', 'o', 're', 've', 'y', 'ain', 'aren', \"aren't\", 'couldn', \"couldn't\", 'didn', \"didn't\", 'doesn', \"doesn't\", 'hadn', \"hadn't\", 'hasn', \"hasn't\", 'haven', \"haven't\", 'isn', \"isn't\", 'ma', 'mightn', \"mightn't\", 'mustn', \"mustn't\", 'needn', \"needn't\", 'shan', \"shan't\", 'shouldn', \"shouldn't\", 'wasn', \"wasn't\", 'weren', \"weren't\", 'won', \"won't\", 'wouldn', \"wouldn't\"]\n"
     ]
    }
   ],
   "source": [
    "print(stopwords.words('English'))"
   ]
  },
  {
   "cell_type": "code",
   "execution_count": 60,
   "id": "2d53ab00-2e19-455b-b7ad-6084468353b4",
   "metadata": {},
   "outputs": [
    {
     "name": "stdout",
     "output_type": "stream",
     "text": [
      "                                                      text  target\n",
      "0        @switchfoot http://twitpic.com/2y1zl - Awww, t...       0\n",
      "1        is upset that he can't update his Facebook by ...       0\n",
      "2        @Kenichan I dived many times for the ball. Man...       0\n",
      "3          my whole body feels itchy and like its on fire        0\n",
      "4        @nationwideclass no, it's not behaving at all....       0\n",
      "...                                                    ...     ...\n",
      "1048571           My GrandMa is making Dinenr with my Mum        1\n",
      "1048572  Mid-morning snack time... A bowl of cheese noo...       1\n",
      "1048573  @ShaDeLa same here  say it like from the Termi...       1\n",
      "1048574             @DestinyHope92 im great thaanks  wbuu?       1\n",
      "1048575               cant wait til her date this weekend        1\n",
      "\n",
      "[1048576 rows x 2 columns]\n"
     ]
    }
   ],
   "source": [
    "data=df[['text','target']] \n",
    "print(data)"
   ]
  },
  {
   "cell_type": "code",
   "execution_count": 18,
   "id": "98f8ab5b-f755-4ca2-a19f-670e42d116ed",
   "metadata": {},
   "outputs": [
    {
     "data": {
      "text/plain": [
       "array([0, 1], dtype=int64)"
      ]
     },
     "execution_count": 18,
     "metadata": {},
     "output_type": "execute_result"
    }
   ],
   "source": [
    "data['target'].unique()"
   ]
  },
  {
   "cell_type": "code",
   "execution_count": 61,
   "id": "53239bfb-2c09-4f03-9f3d-4620ec8647ff",
   "metadata": {},
   "outputs": [],
   "source": [
    "data_pos = data[data['target'] == 1]\n",
    "data_neg = data[data['target'] == 0]"
   ]
  },
  {
   "cell_type": "code",
   "execution_count": 20,
   "id": "f0f1c9e9-509b-492b-9d84-856cd6d49e58",
   "metadata": {},
   "outputs": [],
   "source": [
    "data_pos = data_pos.iloc[:int(30000)]\n",
    "data_neg = data_neg.iloc[:int(30000)]\n"
   ]
  },
  {
   "cell_type": "code",
   "execution_count": 21,
   "id": "04ca51fc-6387-4a73-982d-f218e6073394",
   "metadata": {},
   "outputs": [],
   "source": [
    "dataset = pd.concat([data_pos, data_neg]) "
   ]
  },
  {
   "cell_type": "code",
   "execution_count": 22,
   "id": "44d26cfe-2d7c-4355-89a5-c984f151d5da",
   "metadata": {},
   "outputs": [],
   "source": [
    "port_stem = PorterStemmer()  "
   ]
  },
  {
   "cell_type": "code",
   "execution_count": 23,
   "id": "e13bb3ad-0835-4f20-a293-d8ab863f6b48",
   "metadata": {},
   "outputs": [],
   "source": [
    "def stemming(content):\n",
    "    stemmed_content  = re.sub('[^a-zA-Z]',' ',content) #except the alphabet character remove all the special character, number ,punctuation mark etc.. \n",
    "    stemmed_content  =  stemmed_content .lower() #converting all char. into lower case \n",
    "    stemmed_content  = stemmed_content  .split()  #split the sentence into list of words\n",
    "    stemmed_content  = [port_stem.stem(word) for word in stemmed_content  if not word in stopwords.words('English')] \n",
    "    stemmed_content = \" \".join( stemmed_content  )\n",
    "    return  stemmed_content  "
   ]
  },
  {
   "cell_type": "code",
   "execution_count": 24,
   "id": "46e0cdb3-533f-469c-b108-5456ab8b3349",
   "metadata": {},
   "outputs": [
    {
     "data": {
      "text/plain": [
       "'@Kenichan I dived many times for the ball. Managed to save 50%  The rest go out of bounds'"
      ]
     },
     "execution_count": 24,
     "metadata": {},
     "output_type": "execute_result"
    }
   ],
   "source": [
    "df.text[2]"
   ]
  },
  {
   "cell_type": "code",
   "execution_count": 25,
   "id": "bbad1f11-6c8d-4b2a-b70d-3dee74960ea3",
   "metadata": {},
   "outputs": [
    {
     "name": "stdout",
     "output_type": "stream",
     "text": [
      "kenichan dive mani time ball manag save rest go bound\n"
     ]
    }
   ],
   "source": [
    "content_to_stem = df.text[2] \n",
    "\n",
    "# Call the stemming function\n",
    "stemmed_result = stemming(content_to_stem)\n",
    "\n",
    "# Print the stemmed content\n",
    "print(stemmed_result)"
   ]
  },
  {
   "cell_type": "code",
   "execution_count": 70,
   "id": "35a67e80-8d88-4b2c-b1a6-808581fad8a9",
   "metadata": {},
   "outputs": [],
   "source": [
    "dataset[\"Stemmed_content\"] = dataset[\"text\"].apply(stemming)\n",
    " "
   ]
  },
  {
   "cell_type": "code",
   "execution_count": 65,
   "id": "3346eb0b-17a6-4e79-b276-5fe8d881af54",
   "metadata": {},
   "outputs": [
    {
     "data": {
      "text/html": [
       "<div>\n",
       "<style scoped>\n",
       "    .dataframe tbody tr th:only-of-type {\n",
       "        vertical-align: middle;\n",
       "    }\n",
       "\n",
       "    .dataframe tbody tr th {\n",
       "        vertical-align: top;\n",
       "    }\n",
       "\n",
       "    .dataframe thead th {\n",
       "        text-align: right;\n",
       "    }\n",
       "</style>\n",
       "<table border=\"1\" class=\"dataframe\">\n",
       "  <thead>\n",
       "    <tr style=\"text-align: right;\">\n",
       "      <th></th>\n",
       "      <th>text</th>\n",
       "      <th>target</th>\n",
       "      <th>Stemmed_content</th>\n",
       "    </tr>\n",
       "  </thead>\n",
       "  <tbody>\n",
       "    <tr>\n",
       "      <th>800000</th>\n",
       "      <td>I LOVE @Health4UandPets u guys r the best!!</td>\n",
       "      <td>1</td>\n",
       "      <td>love health uandpet u guy r best</td>\n",
       "    </tr>\n",
       "    <tr>\n",
       "      <th>800001</th>\n",
       "      <td>im meeting up with one of my besties tonight! ...</td>\n",
       "      <td>1</td>\n",
       "      <td>im meet one besti tonight cant wait girl talk</td>\n",
       "    </tr>\n",
       "    <tr>\n",
       "      <th>800002</th>\n",
       "      <td>@DaRealSunisaKim Thanks for the Twitter add, S...</td>\n",
       "      <td>1</td>\n",
       "      <td>darealsunisakim thank twitter add sunisa got m...</td>\n",
       "    </tr>\n",
       "    <tr>\n",
       "      <th>800003</th>\n",
       "      <td>Being sick can be really cheap when it hurts t...</td>\n",
       "      <td>1</td>\n",
       "      <td>sick realli cheap hurt much eat real food plu ...</td>\n",
       "    </tr>\n",
       "    <tr>\n",
       "      <th>800004</th>\n",
       "      <td>@LovesBrooklyn2 he has that effect on everyone</td>\n",
       "      <td>1</td>\n",
       "      <td>lovesbrooklyn effect everyon</td>\n",
       "    </tr>\n",
       "  </tbody>\n",
       "</table>\n",
       "</div>"
      ],
      "text/plain": [
       "                                                     text  target  \\\n",
       "800000       I LOVE @Health4UandPets u guys r the best!!        1   \n",
       "800001  im meeting up with one of my besties tonight! ...       1   \n",
       "800002  @DaRealSunisaKim Thanks for the Twitter add, S...       1   \n",
       "800003  Being sick can be really cheap when it hurts t...       1   \n",
       "800004    @LovesBrooklyn2 he has that effect on everyone        1   \n",
       "\n",
       "                                          Stemmed_content  \n",
       "800000                   love health uandpet u guy r best  \n",
       "800001      im meet one besti tonight cant wait girl talk  \n",
       "800002  darealsunisakim thank twitter add sunisa got m...  \n",
       "800003  sick realli cheap hurt much eat real food plu ...  \n",
       "800004                       lovesbrooklyn effect everyon  "
      ]
     },
     "execution_count": 65,
     "metadata": {},
     "output_type": "execute_result"
    }
   ],
   "source": [
    "dataset.head(5)"
   ]
  },
  {
   "cell_type": "code",
   "execution_count": 66,
   "id": "e5ead54f-bf05-44b5-ae9f-1c4929f090a1",
   "metadata": {},
   "outputs": [],
   "source": [
    "#seperating the data and label\n",
    "X=dataset['Stemmed_content'].values\n",
    "Y=dataset['target'].values"
   ]
  },
  {
   "cell_type": "code",
   "execution_count": 67,
   "id": "5a986b23-ffae-4f73-8c08-a925f52e104f",
   "metadata": {},
   "outputs": [
    {
     "name": "stdout",
     "output_type": "stream",
     "text": [
      "['love health uandpet u guy r best'\n",
      " 'im meet one besti tonight cant wait girl talk'\n",
      " 'darealsunisakim thank twitter add sunisa got meet hin show dc area sweetheart'\n",
      " ... 'leav britney found jon new kid alway miss celeb'\n",
      " 'neomic havta go pee im scare walk dwn hall pleas check mous im freak turn light'\n",
      " 'nooooooooooooooo school today worst part wont abl tweet troughout day']\n"
     ]
    }
   ],
   "source": [
    "print(X)     "
   ]
  },
  {
   "cell_type": "code",
   "execution_count": 68,
   "id": "f34e3fa6-8eb3-4aa3-b6b4-ed1844a0508e",
   "metadata": {},
   "outputs": [
    {
     "data": {
      "text/plain": [
       "(60000, 3)"
      ]
     },
     "execution_count": 68,
     "metadata": {},
     "output_type": "execute_result"
    }
   ],
   "source": [
    "dataset.shape "
   ]
  },
  {
   "cell_type": "code",
   "execution_count": 69,
   "id": "8a1fc8fb-223d-4146-9ac5-1b6a9fcd0ce3",
   "metadata": {},
   "outputs": [
    {
     "name": "stdout",
     "output_type": "stream",
     "text": [
      "[1 1 1 ... 0 0 0]\n"
     ]
    }
   ],
   "source": [
    "print(Y) "
   ]
  },
  {
   "cell_type": "code",
   "execution_count": 66,
   "id": "eafcce86-56eb-45fd-a382-9c39632d1d3c",
   "metadata": {},
   "outputs": [
    {
     "data": {
      "text/plain": [
       "<matplotlib.image.AxesImage at 0x16661467110>"
      ]
     },
     "execution_count": 66,
     "metadata": {},
     "output_type": "execute_result"
    },
    {
     "data": {
      "image/png": "[encoded data removed]",
      "text/plain": [
       "<Figure size 500x1500 with 1 Axes>"
      ]
     },
     "metadata": {},
     "output_type": "display_data"
    }
   ],
   "source": [
    "data_positive = dataset['text'][:80000]\n",
    "wc = WordCloud(max_words = 1000 , width = 1000 , height = 600,\n",
    "              collocations=False).generate(\" \".join(data_positive))\n",
    "plt.figure(figsize = (5,15))\n",
    "plt.imshow(wc)  "
   ]
  },
  {
   "cell_type": "code",
   "execution_count": 32,
   "id": "5dd45ff0-721f-41c8-921e-9f410df75cf6",
   "metadata": {},
   "outputs": [],
   "source": [
    "#Splitting the data into train and test \n",
    "#stratify indicate the equal proportion og distribution f two classes in both train and test \n",
    "X_train, X_test, Y_train, Y_test = train_test_split(X,Y,test_size = 0.2, stratify = Y,  random_state =2)  "
   ]
  },
  {
   "cell_type": "code",
   "execution_count": 33,
   "id": "e5a503ef-5f9b-4ecb-b63c-60777ef2aa2e",
   "metadata": {},
   "outputs": [
    {
     "name": "stdout",
     "output_type": "stream",
     "text": [
      "['hane bestest friend' 'noellegray haha mine transform accord small one'\n",
      " 'pinot watch today home use support honda also big fan kimi fond hamilton sorri'\n",
      " ... 'brianviloria goodluck' 'richardblai chelseafc beat arsen case miss'\n",
      " 'tiffanystarn halfway home bbq midciti one']\n"
     ]
    }
   ],
   "source": [
    "print(X_train) "
   ]
  },
  {
   "cell_type": "code",
   "execution_count": 34,
   "id": "a505c910-5b74-4d5d-b85e-e33f728d3d01",
   "metadata": {},
   "outputs": [
    {
     "name": "stdout",
     "output_type": "stream",
     "text": [
      "['nick carter honey must tell quot hi quot quot hello quot sign smoke cri'\n",
      " 'piablo oo realli check tomorrow prolli wont tonight guess'\n",
      " 'great mood morn mess way behind movi pretti much coolest peopl know' ...\n",
      " 'sangitashr accept breath throat stomach never ktm'\n",
      " 'hospit soon kinda suck allow eat anyth x'\n",
      " 'thatgiirl listen regret http tinyurl com killthelight']\n"
     ]
    }
   ],
   "source": [
    "print(X_test) "
   ]
  },
  {
   "cell_type": "code",
   "execution_count": 35,
   "id": "99d305bc-aff9-4b2f-960a-99d5272b2e4d",
   "metadata": {},
   "outputs": [],
   "source": [
    "#Convert the textual data into numberical value \n",
    "vectorizer = TfidfVectorizer() \n",
    "X_train = vectorizer.fit_transform(X_train) \n",
    "X_test = vectorizer.transform(X_test)  "
   ]
  },
  {
   "cell_type": "code",
   "execution_count": 36,
   "id": "7cbfa986-c781-44eb-836d-bcb3ca71f085",
   "metadata": {},
   "outputs": [
    {
     "name": "stdout",
     "output_type": "stream",
     "text": [
      "  (0, 36721)\t0.20537972517588157\n",
      "  (0, 34187)\t0.27114307158386897\n",
      "  (0, 33636)\t0.24068306866202646\n",
      "  (0, 30143)\t0.6640557144290358\n",
      "  (0, 26272)\t0.2390150296030474\n",
      "  (0, 25482)\t0.21327576455771188\n",
      "  (0, 16181)\t0.2732756742111204\n",
      "  (0, 15812)\t0.21188937332952207\n",
      "  (0, 15635)\t0.2253126972176722\n",
      "  (0, 7930)\t0.21930341939236314\n",
      "  (0, 5667)\t0.25367505545143754\n",
      "  (1, 41204)\t0.3790953217205255\n",
      "  (1, 37999)\t0.27313498905778755\n",
      "  (1, 37955)\t0.25444805459757186\n",
      "  (1, 30573)\t0.24133423412925836\n",
      "  (1, 29689)\t0.46942204842776986\n",
      "  (1, 27380)\t0.48958618068656906\n",
      "  (1, 14824)\t0.3159981093902018\n",
      "  (1, 6205)\t0.31431114638714575\n",
      "  (2, 40391)\t0.24157088956384268\n",
      "  (2, 29526)\t0.27199428027112194\n",
      "  (2, 28424)\t0.2490355179332966\n",
      "  (2, 25331)\t0.2269952959650183\n",
      "  (2, 25085)\t0.2691105703101958\n",
      "  (2, 24967)\t0.22069625772668183\n",
      "  :\t:\n",
      "  (11994, 6104)\t0.3624848341894685\n",
      "  (11994, 4941)\t0.40598860374141205\n",
      "  (11994, 4061)\t0.36582546206403754\n",
      "  (11995, 36926)\t0.5618478662260453\n",
      "  (11995, 2186)\t0.8272405788023457\n",
      "  (11996, 27326)\t0.3175366734848757\n",
      "  (11996, 8561)\t0.8088907757162921\n",
      "  (11996, 576)\t0.49483954364344657\n",
      "  (11997, 37457)\t0.4261167762625924\n",
      "  (11997, 35425)\t0.45018915963496803\n",
      "  (11997, 26131)\t0.3348886890730366\n",
      "  (11997, 4621)\t0.4863090566065776\n",
      "  (11997, 215)\t0.5168242263362861\n",
      "  (11998, 35693)\t0.32852911742184526\n",
      "  (11998, 34518)\t0.31767558146490177\n",
      "  (11998, 20087)\t0.3864477473914003\n",
      "  (11998, 16297)\t0.4411333419221893\n",
      "  (11998, 10685)\t0.3278462840088776\n",
      "  (11998, 1744)\t0.36020426075853906\n",
      "  (11998, 1005)\t0.4582358145328648\n",
      "  (11999, 37703)\t0.43767052098633946\n",
      "  (11999, 30805)\t0.6580848803853372\n",
      "  (11999, 21724)\t0.4249472582304085\n",
      "  (11999, 16436)\t0.30664491104126645\n",
      "  (11999, 7209)\t0.3174232687165747\n"
     ]
    }
   ],
   "source": [
    "print(X_test) "
   ]
  },
  {
   "cell_type": "code",
   "execution_count": null,
   "id": "3ae26738-ea20-44f4-9846-b5daadc969ad",
   "metadata": {},
   "outputs": [],
   "source": []
  },
  {
   "cell_type": "markdown",
   "id": "b7f6f977-cb80-4289-8a07-fd9391105730",
   "metadata": {},
   "source": [
    "**Training the Machine Learning Model**"
   ]
  },
  {
   "cell_type": "code",
   "execution_count": 38,
   "id": "c4b91bee-1ffc-4851-be1a-e19f2c7a98e6",
   "metadata": {},
   "outputs": [],
   "source": [
    "model = LogisticRegression(max_iter = 1000 )   #model need to go through the data for max_iter times  for better understanding"
   ]
  },
  {
   "cell_type": "code",
   "execution_count": 39,
   "id": "b6684c31-6649-40aa-af66-e0120324a887",
   "metadata": {},
   "outputs": [
    {
     "data": {
      "text/html": [
       "<style>#sk-container-id-1 {\n",
       "  /* Definition of color scheme common for light and dark mode */\n",
       "  --sklearn-color-text: black;\n",
       "  --sklearn-color-line: gray;\n",
       "  /* Definition of color scheme for unfitted estimators */\n",
       "  --sklearn-color-unfitted-level-0: #fff5e6;\n",
       "  --sklearn-color-unfitted-level-1: #f6e4d2;\n",
       "  --sklearn-color-unfitted-level-2: #ffe0b3;\n",
       "  --sklearn-color-unfitted-level-3: chocolate;\n",
       "  /* Definition of color scheme for fitted estimators */\n",
       "  --sklearn-color-fitted-level-0: #f0f8ff;\n",
       "  --sklearn-color-fitted-level-1: #d4ebff;\n",
       "  --sklearn-color-fitted-level-2: #b3dbfd;\n",
       "  --sklearn-color-fitted-level-3: cornflowerblue;\n",
       "\n",
       "  /* Specific color for light theme */\n",
       "  --sklearn-color-text-on-default-background: var(--sg-text-color, var(--theme-code-foreground, var(--jp-content-font-color1, black)));\n",
       "  --sklearn-color-background: var(--sg-background-color, var(--theme-background, var(--jp-layout-color0, white)));\n",
       "  --sklearn-color-border-box: var(--sg-text-color, var(--theme-code-foreground, var(--jp-content-font-color1, black)));\n",
       "  --sklearn-color-icon: #696969;\n",
       "\n",
       "  @media (prefers-color-scheme: dark) {\n",
       "    /* Redefinition of color scheme for dark theme */\n",
       "    --sklearn-color-text-on-default-background: var(--sg-text-color, var(--theme-code-foreground, var(--jp-content-font-color1, white)));\n",
       "    --sklearn-color-background: var(--sg-background-color, var(--theme-background, var(--jp-layout-color0, #111)));\n",
       "    --sklearn-color-border-box: var(--sg-text-color, var(--theme-code-foreground, var(--jp-content-font-color1, white)));\n",
       "    --sklearn-color-icon: #878787;\n",
       "  }\n",
       "}\n",
       "\n",
       "#sk-container-id-1 {\n",
       "  color: var(--sklearn-color-text);\n",
       "}\n",
       "\n",
       "#sk-container-id-1 pre {\n",
       "  padding: 0;\n",
       "}\n",
       "\n",
       "#sk-container-id-1 input.sk-hidden--visually {\n",
       "  border: 0;\n",
       "  clip: rect(1px 1px 1px 1px);\n",
       "  clip: rect(1px, 1px, 1px, 1px);\n",
       "  height: 1px;\n",
       "  margin: -1px;\n",
       "  overflow: hidden;\n",
       "  padding: 0;\n",
       "  position: absolute;\n",
       "  width: 1px;\n",
       "}\n",
       "\n",
       "#sk-container-id-1 div.sk-dashed-wrapped {\n",
       "  border: 1px dashed var(--sklearn-color-line);\n",
       "  margin: 0 0.4em 0.5em 0.4em;\n",
       "  box-sizing: border-box;\n",
       "  padding-bottom: 0.4em;\n",
       "  background-color: var(--sklearn-color-background);\n",
       "}\n",
       "\n",
       "#sk-container-id-1 div.sk-container {\n",
       "  /* jupyter's `normalize.less` sets `[hidden] { display: none; }`\n",
       "     but bootstrap.min.css set `[hidden] { display: none !important; }`\n",
       "     so we also need the `!important` here to be able to override the\n",
       "     default hidden behavior on the sphinx rendered scikit-learn.org.\n",
       "     See: https://github.com/scikit-learn/scikit-learn/issues/21755 */\n",
       "  display: inline-block !important;\n",
       "  position: relative;\n",
       "}\n",
       "\n",
       "#sk-container-id-1 div.sk-text-repr-fallback {\n",
       "  display: none;\n",
       "}\n",
       "\n",
       "div.sk-parallel-item,\n",
       "div.sk-serial,\n",
       "div.sk-item {\n",
       "  /* draw centered vertical line to link estimators */\n",
       "  background-image: linear-gradient(var(--sklearn-color-text-on-default-background), var(--sklearn-color-text-on-default-background));\n",
       "  background-size: 2px 100%;\n",
       "  background-repeat: no-repeat;\n",
       "  background-position: center center;\n",
       "}\n",
       "\n",
       "/* Parallel-specific style estimator block */\n",
       "\n",
       "#sk-container-id-1 div.sk-parallel-item::after {\n",
       "  content: \"\";\n",
       "  width: 100%;\n",
       "  border-bottom: 2px solid var(--sklearn-color-text-on-default-background);\n",
       "  flex-grow: 1;\n",
       "}\n",
       "\n",
       "#sk-container-id-1 div.sk-parallel {\n",
       "  display: flex;\n",
       "  align-items: stretch;\n",
       "  justify-content: center;\n",
       "  background-color: var(--sklearn-color-background);\n",
       "  position: relative;\n",
       "}\n",
       "\n",
       "#sk-container-id-1 div.sk-parallel-item {\n",
       "  display: flex;\n",
       "  flex-direction: column;\n",
       "}\n",
       "\n",
       "#sk-container-id-1 div.sk-parallel-item:first-child::after {\n",
       "  align-self: flex-end;\n",
       "  width: 50%;\n",
       "}\n",
       "\n",
       "#sk-container-id-1 div.sk-parallel-item:last-child::after {\n",
       "  align-self: flex-start;\n",
       "  width: 50%;\n",
       "}\n",
       "\n",
       "#sk-container-id-1 div.sk-parallel-item:only-child::after {\n",
       "  width: 0;\n",
       "}\n",
       "\n",
       "/* Serial-specific style estimator block */\n",
       "\n",
       "#sk-container-id-1 div.sk-serial {\n",
       "  display: flex;\n",
       "  flex-direction: column;\n",
       "  align-items: center;\n",
       "  background-color: var(--sklearn-color-background);\n",
       "  padding-right: 1em;\n",
       "  padding-left: 1em;\n",
       "}\n",
       "\n",
       "\n",
       "/* Toggleable style: style used for estimator/Pipeline/ColumnTransformer box that is\n",
       "clickable and can be expanded/collapsed.\n",
       "- Pipeline and ColumnTransformer use this feature and define the default style\n",
       "- Estimators will overwrite some part of the style using the `sk-estimator` class\n",
       "*/\n",
       "\n",
       "/* Pipeline and ColumnTransformer style (default) */\n",
       "\n",
       "#sk-container-id-1 div.sk-toggleable {\n",
       "  /* Default theme specific background. It is overwritten whether we have a\n",
       "  specific estimator or a Pipeline/ColumnTransformer */\n",
       "  background-color: var(--sklearn-color-background);\n",
       "}\n",
       "\n",
       "/* Toggleable label */\n",
       "#sk-container-id-1 label.sk-toggleable__label {\n",
       "  cursor: pointer;\n",
       "  display: block;\n",
       "  width: 100%;\n",
       "  margin-bottom: 0;\n",
       "  padding: 0.5em;\n",
       "  box-sizing: border-box;\n",
       "  text-align: center;\n",
       "}\n",
       "\n",
       "#sk-container-id-1 label.sk-toggleable__label-arrow:before {\n",
       "  /* Arrow on the left of the label */\n",
       "  content: \"▸\";\n",
       "  float: left;\n",
       "  margin-right: 0.25em;\n",
       "  color: var(--sklearn-color-icon);\n",
       "}\n",
       "\n",
       "#sk-container-id-1 label.sk-toggleable__label-arrow:hover:before {\n",
       "  color: var(--sklearn-color-text);\n",
       "}\n",
       "\n",
       "/* Toggleable content - dropdown */\n",
       "\n",
       "#sk-container-id-1 div.sk-toggleable__content {\n",
       "  max-height: 0;\n",
       "  max-width: 0;\n",
       "  overflow: hidden;\n",
       "  text-align: left;\n",
       "  /* unfitted */\n",
       "  background-color: var(--sklearn-color-unfitted-level-0);\n",
       "}\n",
       "\n",
       "#sk-container-id-1 div.sk-toggleable__content.fitted {\n",
       "  /* fitted */\n",
       "  background-color: var(--sklearn-color-fitted-level-0);\n",
       "}\n",
       "\n",
       "#sk-container-id-1 div.sk-toggleable__content pre {\n",
       "  margin: 0.2em;\n",
       "  border-radius: 0.25em;\n",
       "  color: var(--sklearn-color-text);\n",
       "  /* unfitted */\n",
       "  background-color: var(--sklearn-color-unfitted-level-0);\n",
       "}\n",
       "\n",
       "#sk-container-id-1 div.sk-toggleable__content.fitted pre {\n",
       "  /* unfitted */\n",
       "  background-color: var(--sklearn-color-fitted-level-0);\n",
       "}\n",
       "\n",
       "#sk-container-id-1 input.sk-toggleable__control:checked~div.sk-toggleable__content {\n",
       "  /* Expand drop-down */\n",
       "  max-height: 200px;\n",
       "  max-width: 100%;\n",
       "  overflow: auto;\n",
       "}\n",
       "\n",
       "#sk-container-id-1 input.sk-toggleable__control:checked~label.sk-toggleable__label-arrow:before {\n",
       "  content: \"▾\";\n",
       "}\n",
       "\n",
       "/* Pipeline/ColumnTransformer-specific style */\n",
       "\n",
       "#sk-container-id-1 div.sk-label input.sk-toggleable__control:checked~label.sk-toggleable__label {\n",
       "  color: var(--sklearn-color-text);\n",
       "  background-color: var(--sklearn-color-unfitted-level-2);\n",
       "}\n",
       "\n",
       "#sk-container-id-1 div.sk-label.fitted input.sk-toggleable__control:checked~label.sk-toggleable__label {\n",
       "  background-color: var(--sklearn-color-fitted-level-2);\n",
       "}\n",
       "\n",
       "/* Estimator-specific style */\n",
       "\n",
       "/* Colorize estimator box */\n",
       "#sk-container-id-1 div.sk-estimator input.sk-toggleable__control:checked~label.sk-toggleable__label {\n",
       "  /* unfitted */\n",
       "  background-color: var(--sklearn-color-unfitted-level-2);\n",
       "}\n",
       "\n",
       "#sk-container-id-1 div.sk-estimator.fitted input.sk-toggleable__control:checked~label.sk-toggleable__label {\n",
       "  /* fitted */\n",
       "  background-color: var(--sklearn-color-fitted-level-2);\n",
       "}\n",
       "\n",
       "#sk-container-id-1 div.sk-label label.sk-toggleable__label,\n",
       "#sk-container-id-1 div.sk-label label {\n",
       "  /* The background is the default theme color */\n",
       "  color: var(--sklearn-color-text-on-default-background);\n",
       "}\n",
       "\n",
       "/* On hover, darken the color of the background */\n",
       "#sk-container-id-1 div.sk-label:hover label.sk-toggleable__label {\n",
       "  color: var(--sklearn-color-text);\n",
       "  background-color: var(--sklearn-color-unfitted-level-2);\n",
       "}\n",
       "\n",
       "/* Label box, darken color on hover, fitted */\n",
       "#sk-container-id-1 div.sk-label.fitted:hover label.sk-toggleable__label.fitted {\n",
       "  color: var(--sklearn-color-text);\n",
       "  background-color: var(--sklearn-color-fitted-level-2);\n",
       "}\n",
       "\n",
       "/* Estimator label */\n",
       "\n",
       "#sk-container-id-1 div.sk-label label {\n",
       "  font-family: monospace;\n",
       "  font-weight: bold;\n",
       "  display: inline-block;\n",
       "  line-height: 1.2em;\n",
       "}\n",
       "\n",
       "#sk-container-id-1 div.sk-label-container {\n",
       "  text-align: center;\n",
       "}\n",
       "\n",
       "/* Estimator-specific */\n",
       "#sk-container-id-1 div.sk-estimator {\n",
       "  font-family: monospace;\n",
       "  border: 1px dotted var(--sklearn-color-border-box);\n",
       "  border-radius: 0.25em;\n",
       "  box-sizing: border-box;\n",
       "  margin-bottom: 0.5em;\n",
       "  /* unfitted */\n",
       "  background-color: var(--sklearn-color-unfitted-level-0);\n",
       "}\n",
       "\n",
       "#sk-container-id-1 div.sk-estimator.fitted {\n",
       "  /* fitted */\n",
       "  background-color: var(--sklearn-color-fitted-level-0);\n",
       "}\n",
       "\n",
       "/* on hover */\n",
       "#sk-container-id-1 div.sk-estimator:hover {\n",
       "  /* unfitted */\n",
       "  background-color: var(--sklearn-color-unfitted-level-2);\n",
       "}\n",
       "\n",
       "#sk-container-id-1 div.sk-estimator.fitted:hover {\n",
       "  /* fitted */\n",
       "  background-color: var(--sklearn-color-fitted-level-2);\n",
       "}\n",
       "\n",
       "/* Specification for estimator info (e.g. \"i\" and \"?\") */\n",
       "\n",
       "/* Common style for \"i\" and \"?\" */\n",
       "\n",
       ".sk-estimator-doc-link,\n",
       "a:link.sk-estimator-doc-link,\n",
       "a:visited.sk-estimator-doc-link {\n",
       "  float: right;\n",
       "  font-size: smaller;\n",
       "  line-height: 1em;\n",
       "  font-family: monospace;\n",
       "  background-color: var(--sklearn-color-background);\n",
       "  border-radius: 1em;\n",
       "  height: 1em;\n",
       "  width: 1em;\n",
       "  text-decoration: none !important;\n",
       "  margin-left: 1ex;\n",
       "  /* unfitted */\n",
       "  border: var(--sklearn-color-unfitted-level-1) 1pt solid;\n",
       "  color: var(--sklearn-color-unfitted-level-1);\n",
       "}\n",
       "\n",
       ".sk-estimator-doc-link.fitted,\n",
       "a:link.sk-estimator-doc-link.fitted,\n",
       "a:visited.sk-estimator-doc-link.fitted {\n",
       "  /* fitted */\n",
       "  border: var(--sklearn-color-fitted-level-1) 1pt solid;\n",
       "  color: var(--sklearn-color-fitted-level-1);\n",
       "}\n",
       "\n",
       "/* On hover */\n",
       "div.sk-estimator:hover .sk-estimator-doc-link:hover,\n",
       ".sk-estimator-doc-link:hover,\n",
       "div.sk-label-container:hover .sk-estimator-doc-link:hover,\n",
       ".sk-estimator-doc-link:hover {\n",
       "  /* unfitted */\n",
       "  background-color: var(--sklearn-color-unfitted-level-3);\n",
       "  color: var(--sklearn-color-background);\n",
       "  text-decoration: none;\n",
       "}\n",
       "\n",
       "div.sk-estimator.fitted:hover .sk-estimator-doc-link.fitted:hover,\n",
       ".sk-estimator-doc-link.fitted:hover,\n",
       "div.sk-label-container:hover .sk-estimator-doc-link.fitted:hover,\n",
       ".sk-estimator-doc-link.fitted:hover {\n",
       "  /* fitted */\n",
       "  background-color: var(--sklearn-color-fitted-level-3);\n",
       "  color: var(--sklearn-color-background);\n",
       "  text-decoration: none;\n",
       "}\n",
       "\n",
       "/* Span, style for the box shown on hovering the info icon */\n",
       ".sk-estimator-doc-link span {\n",
       "  display: none;\n",
       "  z-index: 9999;\n",
       "  position: relative;\n",
       "  font-weight: normal;\n",
       "  right: .2ex;\n",
       "  padding: .5ex;\n",
       "  margin: .5ex;\n",
       "  width: min-content;\n",
       "  min-width: 20ex;\n",
       "  max-width: 50ex;\n",
       "  color: var(--sklearn-color-text);\n",
       "  box-shadow: 2pt 2pt 4pt #999;\n",
       "  /* unfitted */\n",
       "  background: var(--sklearn-color-unfitted-level-0);\n",
       "  border: .5pt solid var(--sklearn-color-unfitted-level-3);\n",
       "}\n",
       "\n",
       ".sk-estimator-doc-link.fitted span {\n",
       "  /* fitted */\n",
       "  background: var(--sklearn-color-fitted-level-0);\n",
       "  border: var(--sklearn-color-fitted-level-3);\n",
       "}\n",
       "\n",
       ".sk-estimator-doc-link:hover span {\n",
       "  display: block;\n",
       "}\n",
       "\n",
       "/* \"?\"-specific style due to the `<a>` HTML tag */\n",
       "\n",
       "#sk-container-id-1 a.estimator_doc_link {\n",
       "  float: right;\n",
       "  font-size: 1rem;\n",
       "  line-height: 1em;\n",
       "  font-family: monospace;\n",
       "  background-color: var(--sklearn-color-background);\n",
       "  border-radius: 1rem;\n",
       "  height: 1rem;\n",
       "  width: 1rem;\n",
       "  text-decoration: none;\n",
       "  /* unfitted */\n",
       "  color: var(--sklearn-color-unfitted-level-1);\n",
       "  border: var(--sklearn-color-unfitted-level-1) 1pt solid;\n",
       "}\n",
       "\n",
       "#sk-container-id-1 a.estimator_doc_link.fitted {\n",
       "  /* fitted */\n",
       "  border: var(--sklearn-color-fitted-level-1) 1pt solid;\n",
       "  color: var(--sklearn-color-fitted-level-1);\n",
       "}\n",
       "\n",
       "/* On hover */\n",
       "#sk-container-id-1 a.estimator_doc_link:hover {\n",
       "  /* unfitted */\n",
       "  background-color: var(--sklearn-color-unfitted-level-3);\n",
       "  color: var(--sklearn-color-background);\n",
       "  text-decoration: none;\n",
       "}\n",
       "\n",
       "#sk-container-id-1 a.estimator_doc_link.fitted:hover {\n",
       "  /* fitted */\n",
       "  background-color: var(--sklearn-color-fitted-level-3);\n",
       "}\n",
       "</style><div id=\"sk-container-id-1\" class=\"sk-top-container\"><div class=\"sk-text-repr-fallback\"><pre>LogisticRegression(max_iter=1000)</pre><b>In a Jupyter environment, please rerun this cell to show the HTML representation or trust the notebook. <br />On GitHub, the HTML representation is unable to render, please try loading this page with nbviewer.org.</b></div><div class=\"sk-container\" hidden><div class=\"sk-item\"><div class=\"sk-estimator fitted sk-toggleable\"><input class=\"sk-toggleable__control sk-hidden--visually\" id=\"sk-estimator-id-1\" type=\"checkbox\" checked><label for=\"sk-estimator-id-1\" class=\"sk-toggleable__label fitted sk-toggleable__label-arrow fitted\">&nbsp;&nbsp;LogisticRegression<a class=\"sk-estimator-doc-link fitted\" rel=\"noreferrer\" target=\"_blank\" href=\"https://scikit-learn.org/1.4/modules/generated/sklearn.linear_model.LogisticRegression.html\">?<span>Documentation for LogisticRegression</span></a><span class=\"sk-estimator-doc-link fitted\">i<span>Fitted</span></span></label><div class=\"sk-toggleable__content fitted\"><pre>LogisticRegression(max_iter=1000)</pre></div> </div></div></div></div>"
      ],
      "text/plain": [
       "LogisticRegression(max_iter=1000)"
      ]
     },
     "execution_count": 39,
     "metadata": {},
     "output_type": "execute_result"
    }
   ],
   "source": [
    "model.fit(X_train,Y_train) "
   ]
  },
  {
   "cell_type": "markdown",
   "id": "9c85a2f0-52bb-4352-bc60-1ad50d44a6d5",
   "metadata": {},
   "source": [
    "**Model Evaluation**"
   ]
  },
  {
   "cell_type": "code",
   "execution_count": 41,
   "id": "b8c29cd9-9fd4-450d-995c-3f23ca5a690c",
   "metadata": {},
   "outputs": [],
   "source": [
    "#Accuracy Score on the training Data\n",
    "from sklearn.metrics import accuracy_score\n",
    "X_train_prediction = model.predict(X_train) \n",
    "training_data_accuracy = accuracy_score(Y_train,X_train_prediction) "
   ]
  },
  {
   "cell_type": "code",
   "execution_count": 42,
   "id": "92605f34-5200-4bf4-81f7-40d2264e5e49",
   "metadata": {},
   "outputs": [
    {
     "name": "stdout",
     "output_type": "stream",
     "text": [
      "Accuracy score on the training data : 0.8285\n"
     ]
    }
   ],
   "source": [
    "print(\"Accuracy score on the training data :\",training_data_accuracy)"
   ]
  },
  {
   "cell_type": "code",
   "execution_count": 45,
   "id": "bf12e261-9353-423b-a131-c5fbe6e5a661",
   "metadata": {},
   "outputs": [],
   "source": [
    "#Accuracy score on the test data\n",
    "X_test_prediction = model.predict(X_test) \n",
    "test_data_accuracy = accuracy_score(Y_test,X_test_prediction)"
   ]
  },
  {
   "cell_type": "code",
   "execution_count": 46,
   "id": "049bf032-fd0d-49ae-98a4-fddd0954aa36",
   "metadata": {},
   "outputs": [
    {
     "name": "stdout",
     "output_type": "stream",
     "text": [
      "Accuracy score on the testing data : 0.7505833333333334\n"
     ]
    }
   ],
   "source": [
    "print(\"Accuracy score on the testing data :\",test_data_accuracy)"
   ]
  },
  {
   "cell_type": "markdown",
   "id": "87bb8e60-0402-4ccf-993c-c656f28cc004",
   "metadata": {},
   "source": [
    "**Model accuracy = 76 %**"
   ]
  },
  {
   "cell_type": "markdown",
   "id": "4219507c-4e51-4d7b-932f-2dd99f8dec14",
   "metadata": {},
   "source": [
    "**Saving the trained model**"
   ]
  },
  {
   "cell_type": "code",
   "execution_count": 47,
   "id": "ad58798e-e942-4353-a1e1-abc942f96800",
   "metadata": {},
   "outputs": [],
   "source": [
    "import pickle"
   ]
  },
  {
   "cell_type": "code",
   "execution_count": 48,
   "id": "2dbd85c7-8b44-43b7-b650-64020bbd4bf0",
   "metadata": {},
   "outputs": [],
   "source": [
    "filename = \"trained_model.sav\"\n",
    "pickle.dump(model,open(filename,'wb'))  # file in the writing mode \n"
   ]
  },
  {
   "cell_type": "markdown",
   "id": "59ecf0f8-2eec-4eec-884c-7570c4daf59d",
   "metadata": {},
   "source": [
    "**Using the saved model for fututre prediction**"
   ]
  },
  {
   "cell_type": "code",
   "execution_count": 49,
   "id": "3d926e1b-8436-4bc4-b006-b366d92fb478",
   "metadata": {},
   "outputs": [],
   "source": [
    "#loading the saved model \n",
    "loaded_model = pickle.load(open('trained_model.sav','rb'))  #path  #reading file in binary "
   ]
  },
  {
   "cell_type": "code",
   "execution_count": 74,
   "id": "9993a16c-7f02-4f89-8a50-dd9b63aa1952",
   "metadata": {},
   "outputs": [
    {
     "name": "stdout",
     "output_type": "stream",
     "text": [
      "1\n",
      "[1]\n",
      "Positive Tweet\n"
     ]
    }
   ],
   "source": [
    "X_new = X_test[100] \n",
    "print(Y_test[100]) \n",
    "prediction = model.predict(X_new)\n",
    "print(prediction)   #predicted by the model \n",
    "\n",
    "if(prediction[0] == 0):\n",
    "    print(\"Negative Tweet\") \n",
    "else:\n",
    "    print(\"Positive Tweet\") \n"
   ]
  },
  {
   "cell_type": "code",
   "execution_count": 72,
   "id": "bea852d5-87e1-4f69-95a9-7c6b7018f9a6",
   "metadata": {},
   "outputs": [
    {
     "name": "stdout",
     "output_type": "stream",
     "text": [
      "0\n",
      "[0]\n",
      "Negative Tweet\n"
     ]
    }
   ],
   "source": [
    "X_new = X_test[7] \n",
    "print(Y_test[7]) \n",
    "prediction = model.predict(X_new)\n",
    "print(prediction)   #predicted by the model \n",
    "\n",
    "if(prediction[0] == 0):\n",
    "    print(\"Negative Tweet\") \n",
    "else:\n",
    "    print(\"Positive Tweet\") "
   ]
  },
  {
   "cell_type": "markdown",
   "id": "c307bf0a-3e89-4879-a88c-a6d06aff59fa",
   "metadata": {},
   "source": [
    "                                          ******************************************                   "
   ]
  },
  {
   "cell_type": "code",
   "execution_count": null,
   "id": "2a920df5-8905-4ef3-a7af-55182ed35759",
   "metadata": {},
   "outputs": [],
   "source": []
  }
 ],
 "metadata": {
  "kernelspec": {
   "display_name": "Python 3 (ipykernel)",
   "language": "python",
   "name": "python3"
  },
  "language_info": {
   "codemirror_mode": {
    "name": "ipython",
    "version": 3
   },
   "file_extension": ".py",
   "mimetype": "text/x-python",
   "name": "python",
   "nbconvert_exporter": "python",
   "pygments_lexer": "ipython3",
   "version": "3.11.1"
  }
 },
 "nbformat": 4,
 "nbformat_minor": 5
}
